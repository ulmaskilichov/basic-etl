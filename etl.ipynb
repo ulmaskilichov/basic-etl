{
 "cells": [
  {
   "cell_type": "code",
   "execution_count": 18,
   "metadata": {},
   "outputs": [],
   "source": [
    "import numpy as np\n",
    "import pandas as pd\n",
    "# импортируем библиотеку datetime для работы с датами\n",
    "import datetime\n",
    "from datetime import datetime, date\n",
    "import json\n",
    "# Задаем некоторые опции библиотеки pandas, которые \n",
    "# настраивают вывод\n",
    "pd.set_option('display.notebook_repr_html', False)\n",
    "pd.set_option('display.max_columns', 8)\n",
    "pd.set_option('display.max_rows', 10)\n",
    "pd.set_option('display.width', 80)\n",
    "# импортируем библиотеку matplotlib для построения графиков\n",
    "import matplotlib.pyplot as plt\n",
    "%matplotlib inline"
   ]
  },
  {
   "cell_type": "code",
   "execution_count": 19,
   "metadata": {},
   "outputs": [
    {
     "data": {
      "text/plain": [
       "0    1\n",
       "1    2\n",
       "2    3\n",
       "3    4\n",
       "dtype: int64"
      ]
     },
     "execution_count": 19,
     "metadata": {},
     "output_type": "execute_result"
    }
   ],
   "source": [
    "s = pd.Series([1,2,3,4])\n",
    "s"
   ]
  },
  {
   "cell_type": "code",
   "execution_count": 50,
   "metadata": {},
   "outputs": [
    {
     "data": {
      "text/plain": [
       "    index             artist       auth firstName  ... status             ts  \\\n",
       "0       2            Des'ree  Logged In    Kaylee  ...    200  1541106106796   \n",
       "1       4            Mr Oizo  Logged In    Kaylee  ...    200  1541106352796   \n",
       "2       5         Tamba Trio  Logged In    Kaylee  ...    200  1541106496796   \n",
       "3       6     The Mars Volta  Logged In    Kaylee  ...    200  1541106673796   \n",
       "4       7  Infected Mushroom  Logged In    Kaylee  ...    200  1541107053796   \n",
       "..    ...                ...        ...       ...  ...    ...            ...   \n",
       "6       9          Girl Talk  Logged In    Kaylee  ...    200  1541107734796   \n",
       "7      10    Black Eyed Peas  Logged In    Sylvie  ...    200  1541108520796   \n",
       "8      12       Fall Out Boy  Logged In      Ryan  ...    200  1541109125796   \n",
       "9      13             M.I.A.  Logged In      Ryan  ...    200  1541109325796   \n",
       "10     14           Survivor  Logged In    Jayden  ...    200  1541110994796   \n",
       "\n",
       "                                            userAgent  userId  \n",
       "0   \"Mozilla/5.0 (Windows NT 6.1; WOW64) AppleWebK...       8  \n",
       "1   \"Mozilla/5.0 (Windows NT 6.1; WOW64) AppleWebK...       8  \n",
       "2   \"Mozilla/5.0 (Windows NT 6.1; WOW64) AppleWebK...       8  \n",
       "3   \"Mozilla/5.0 (Windows NT 6.1; WOW64) AppleWebK...       8  \n",
       "4   \"Mozilla/5.0 (Windows NT 6.1; WOW64) AppleWebK...       8  \n",
       "..                                                ...     ...  \n",
       "6   \"Mozilla/5.0 (Windows NT 6.1; WOW64) AppleWebK...       8  \n",
       "7   \"Mozilla/5.0 (Macintosh; Intel Mac OS X 10_9_4...      10  \n",
       "8   \"Mozilla/5.0 (X11; Linux x86_64) AppleWebKit/5...      26  \n",
       "9   \"Mozilla/5.0 (X11; Linux x86_64) AppleWebKit/5...      26  \n",
       "10  \"Mozilla/5.0 (Windows NT 6.3; WOW64) AppleWebK...     101  \n",
       "\n",
       "[11 rows x 19 columns]"
      ]
     },
     "execution_count": 50,
     "metadata": {},
     "output_type": "execute_result"
    }
   ],
   "source": [
    "df = pd.read_json(r\"data/log_data/2018/11/2018-11-01-events.json\", lines=True)\n",
    "song = pd.read_json(r\"./data/song_data/A/A/A/TRAAAAW128F429D538.json\", lines=True)\n",
    "df = df[df[\"page\"]=='NextSong'].reset_index()\n",
    "df"
   ]
  },
  {
   "cell_type": "code",
   "execution_count": 54,
   "metadata": {},
   "outputs": [
    {
     "data": {
      "text/plain": [
       "0   2018-11-01 21:01:46.796\n",
       "1   2018-11-01 21:05:52.796\n",
       "2   2018-11-01 21:08:16.796\n",
       "3   2018-11-01 21:11:13.796\n",
       "4   2018-11-01 21:17:33.796\n",
       "Name: ts, dtype: datetime64[ns]"
      ]
     },
     "execution_count": 54,
     "metadata": {},
     "output_type": "execute_result"
    }
   ],
   "source": [
    "import datetime\n",
    "t = pd.to_datetime(df.ts, unit='ms')\n",
    "t.head()"
   ]
  },
  {
   "cell_type": "code",
   "execution_count": 53,
   "metadata": {},
   "outputs": [
    {
     "data": {
      "text/plain": [
       "   index             artist       auth firstName  ...  \\\n",
       "0      2            Des'ree  Logged In    Kaylee  ...   \n",
       "1      4            Mr Oizo  Logged In    Kaylee  ...   \n",
       "2      5         Tamba Trio  Logged In    Kaylee  ...   \n",
       "3      6     The Mars Volta  Logged In    Kaylee  ...   \n",
       "4      7  Infected Mushroom  Logged In    Kaylee  ...   \n",
       "\n",
       "                                           userAgent  userId week  week_day  \n",
       "0  \"Mozilla/5.0 (Windows NT 6.1; WOW64) AppleWebK...       8   44  Thursday  \n",
       "1  \"Mozilla/5.0 (Windows NT 6.1; WOW64) AppleWebK...       8   44  Thursday  \n",
       "2  \"Mozilla/5.0 (Windows NT 6.1; WOW64) AppleWebK...       8   44  Thursday  \n",
       "3  \"Mozilla/5.0 (Windows NT 6.1; WOW64) AppleWebK...       8   44  Thursday  \n",
       "4  \"Mozilla/5.0 (Windows NT 6.1; WOW64) AppleWebK...       8   44  Thursday  \n",
       "\n",
       "[5 rows x 21 columns]"
      ]
     },
     "execution_count": 53,
     "metadata": {},
     "output_type": "execute_result"
    }
   ],
   "source": [
    "df['week'] = t.apply(lambda x: datetime.date(x.year, x.month, x.day).isocalendar()[1])\n",
    "df['week_day'] = t.apply(lambda x: datetime.date(x.year, x.month, x.day).strftime(\"%A\"))\n",
    "df.head()"
   ]
  },
  {
   "cell_type": "code",
   "execution_count": 55,
   "metadata": {},
   "outputs": [
    {
     "data": {
      "text/plain": [
       "   index             artist       auth firstName  ... userId  week  week_day  \\\n",
       "0      2            Des'ree  Logged In    Kaylee  ...      8    44  Thursday   \n",
       "1      4            Mr Oizo  Logged In    Kaylee  ...      8    44  Thursday   \n",
       "2      5         Tamba Trio  Logged In    Kaylee  ...      8    44  Thursday   \n",
       "3      6     The Mars Volta  Logged In    Kaylee  ...      8    44  Thursday   \n",
       "4      7  Infected Mushroom  Logged In    Kaylee  ...      8    44  Thursday   \n",
       "\n",
       "               start_time  \n",
       "0 2018-11-01 21:01:46.796  \n",
       "1 2018-11-01 21:05:52.796  \n",
       "2 2018-11-01 21:08:16.796  \n",
       "3 2018-11-01 21:11:13.796  \n",
       "4 2018-11-01 21:17:33.796  \n",
       "\n",
       "[5 rows x 22 columns]"
      ]
     },
     "execution_count": 55,
     "metadata": {},
     "output_type": "execute_result"
    }
   ],
   "source": [
    "time_data = (t, t.dt.hour, t.dt.day, df.week, t.dt.month, t.dt.year, df.week_day)\n",
    "column_labels = ['start_time','hour','day','week','month', 'year','weekday']\n",
    "time_df = pd.DataFrame(dict(zip(column_labels, time_data)))\n",
    "time_df.head()\n",
    "df['start_time'] = t\n",
    "df.head()"
   ]
  },
  {
   "cell_type": "code",
   "execution_count": 61,
   "metadata": {},
   "outputs": [
    {
     "data": {
      "text/plain": [
       "    userId\n",
       "0        8\n",
       "1        8\n",
       "2        8\n",
       "3        8\n",
       "4        8\n",
       "..     ...\n",
       "6        8\n",
       "7       10\n",
       "8       26\n",
       "9       26\n",
       "10     101\n",
       "\n",
       "[11 rows x 1 columns]"
      ]
     },
     "execution_count": 61,
     "metadata": {},
     "output_type": "execute_result"
    }
   ],
   "source": [
    "user_df = df[['userId','firstName', 'lastName', 'gender', 'level']]\n",
    "# user_df\n",
    "\n",
    "with open(\"./data/song_data/A/A/A/TRAAAAW128F429D538.json\") as f:\n",
    "    data = json.load(f)\n",
    "df[['d']]"
   ]
  }
 ],
 "metadata": {
  "kernelspec": {
   "display_name": "etl",
   "language": "python",
   "name": "python3"
  },
  "language_info": {
   "codemirror_mode": {
    "name": "ipython",
    "version": 3
   },
   "file_extension": ".py",
   "mimetype": "text/x-python",
   "name": "python",
   "nbconvert_exporter": "python",
   "pygments_lexer": "ipython3",
   "version": "3.11.2"
  },
  "orig_nbformat": 4
 },
 "nbformat": 4,
 "nbformat_minor": 2
}
